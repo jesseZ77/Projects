{
 "cells": [
  {
   "cell_type": "code",
   "execution_count": 1,
   "metadata": {},
   "outputs": [],
   "source": [
    "from class_model import ClassificationModel\n",
    "import numpy as np\n",
    "import pandas as pd\n",
    "import re\n",
    "from textwrap import wrap\n",
    "import matplotlib.pyplot as plt\n",
    "from sklearn.metrics import roc_curve, roc_auc_score, confusion_matrix, precision_recall_curve, f1_score\n",
    "from sklearn.linear_model import LogisticRegression\n",
    "from sklearn.metrics import \n",
    "\n",
    "plt.rcParams.update({'font.size': 18})"
   ]
  },
  {
   "cell_type": "code",
   "execution_count": 2,
   "metadata": {},
   "outputs": [],
   "source": [
    "X_train = np.loadtxt(\"data/X_train.txt\")\n",
    "y_train = np.loadtxt(\"data/y_train.txt\")\n",
    "X_val = np.loadtxt(\"data/X_val.txt\")\n",
    "y_val = np.loadtxt(\"data/y_val.txt\")\n",
    "X_test = np.loadtxt(\"data/X_test.txt\")\n",
    "y_test = np.loadtxt(\"data/y_test.txt\")"
   ]
  },
  {
   "cell_type": "code",
   "execution_count": 103,
   "metadata": {},
   "outputs": [
    {
     "data": {
      "text/html": [
       "<div>\n",
       "<style scoped>\n",
       "    .dataframe tbody tr th:only-of-type {\n",
       "        vertical-align: middle;\n",
       "    }\n",
       "\n",
       "    .dataframe tbody tr th {\n",
       "        vertical-align: top;\n",
       "    }\n",
       "\n",
       "    .dataframe thead th {\n",
       "        text-align: right;\n",
       "    }\n",
       "</style>\n",
       "<table border=\"1\" class=\"dataframe\">\n",
       "  <thead>\n",
       "    <tr style=\"text-align: right;\">\n",
       "      <th></th>\n",
       "      <th>Loss: train</th>\n",
       "      <th>Loss: val</th>\n",
       "      <th>Loss: test</th>\n",
       "      <th>Acc: train</th>\n",
       "      <th>Acc: val</th>\n",
       "      <th>Acc: test</th>\n",
       "      <th>Num epochs</th>\n",
       "      <th>Time (s)</th>\n",
       "    </tr>\n",
       "  </thead>\n",
       "  <tbody>\n",
       "    <tr>\n",
       "      <th>0</th>\n",
       "      <td>0.5477</td>\n",
       "      <td>0.5913</td>\n",
       "      <td>0.6285</td>\n",
       "      <td>0.7158</td>\n",
       "      <td>0.6946</td>\n",
       "      <td>0.6490</td>\n",
       "      <td>166</td>\n",
       "      <td>12.2955</td>\n",
       "    </tr>\n",
       "  </tbody>\n",
       "</table>\n",
       "</div>"
      ],
      "text/plain": [
       "   Loss: train  Loss: val  Loss: test  Acc: train  Acc: val  Acc: test  \\\n",
       "0       0.5477     0.5913      0.6285      0.7158    0.6946     0.6490   \n",
       "\n",
       "  Num epochs  Time (s)  \n",
       "0        166   12.2955  "
      ]
     },
     "execution_count": 103,
     "metadata": {},
     "output_type": "execute_result"
    }
   ],
   "source": [
    "results"
   ]
  },
  {
   "cell_type": "code",
   "execution_count": 102,
   "metadata": {},
   "outputs": [
    {
     "name": "stdout",
     "output_type": "stream",
     "text": [
      "Best model: starting run 1 out of 1\n"
     ]
    },
    {
     "data": {
      "text/html": [
       "<div>\n",
       "<style scoped>\n",
       "    .dataframe tbody tr th:only-of-type {\n",
       "        vertical-align: middle;\n",
       "    }\n",
       "\n",
       "    .dataframe tbody tr th {\n",
       "        vertical-align: top;\n",
       "    }\n",
       "\n",
       "    .dataframe thead th {\n",
       "        text-align: right;\n",
       "    }\n",
       "</style>\n",
       "<table border=\"1\" class=\"dataframe\">\n",
       "  <thead>\n",
       "    <tr style=\"text-align: right;\">\n",
       "      <th></th>\n",
       "      <th>train</th>\n",
       "      <th>val</th>\n",
       "      <th>test</th>\n",
       "    </tr>\n",
       "  </thead>\n",
       "  <tbody>\n",
       "    <tr>\n",
       "      <th>loss</th>\n",
       "      <td>0.5477</td>\n",
       "      <td>0.5913</td>\n",
       "      <td>0.6285</td>\n",
       "    </tr>\n",
       "    <tr>\n",
       "      <th>accuracy</th>\n",
       "      <td>0.7158</td>\n",
       "      <td>0.6946</td>\n",
       "      <td>0.6490</td>\n",
       "    </tr>\n",
       "    <tr>\n",
       "      <th>tpr/ recall</th>\n",
       "      <td>0.7425</td>\n",
       "      <td>0.6707</td>\n",
       "      <td>0.6827</td>\n",
       "    </tr>\n",
       "    <tr>\n",
       "      <th>fpr</th>\n",
       "      <td>0.3112</td>\n",
       "      <td>0.2824</td>\n",
       "      <td>0.3846</td>\n",
       "    </tr>\n",
       "    <tr>\n",
       "      <th>precision</th>\n",
       "      <td>0.7066</td>\n",
       "      <td>0.6962</td>\n",
       "      <td>0.6396</td>\n",
       "    </tr>\n",
       "    <tr>\n",
       "      <th>f1 score</th>\n",
       "      <td>0.7241</td>\n",
       "      <td>0.6832</td>\n",
       "      <td>0.6605</td>\n",
       "    </tr>\n",
       "    <tr>\n",
       "      <th>auc</th>\n",
       "      <td>0.7959</td>\n",
       "      <td>0.7750</td>\n",
       "      <td>0.7012</td>\n",
       "    </tr>\n",
       "  </tbody>\n",
       "</table>\n",
       "</div>"
      ],
      "text/plain": [
       "             train    val   test\n",
       "loss        0.5477 0.5913 0.6285\n",
       "accuracy    0.7158 0.6946 0.6490\n",
       "tpr/ recall 0.7425 0.6707 0.6827\n",
       "fpr         0.3112 0.2824 0.3846\n",
       "precision   0.7066 0.6962 0.6396\n",
       "f1 score    0.7241 0.6832 0.6605\n",
       "auc         0.7959 0.7750 0.7012"
      ]
     },
     "execution_count": 102,
     "metadata": {},
     "output_type": "execute_result"
    }
   ],
   "source": [
    "clm = ClassificationModel((X_train, y_train), (X_val, y_val), (X_test, y_test),\n",
    "                              caption=f\"Best model\",\n",
    "                              optim=\"sgd\",\n",
    "                              lr=0.01, mom=0.00,\n",
    "                              n_hidden_layers=1, n_hidden_neurons=25, n_reps=1)\n",
    "r, results, _ = clm.evaluate(write=False)\n",
    "y_pred_train = clm.model.predict(X_train).reshape(-1)\n",
    "y_pred_val = clm.model.predict(X_val).reshape(-1)\n",
    "y_pred_test = clm.model.predict(X_test).reshape(-1)\n",
    "\n",
    "summary_table(y_train, y_pred_train, y_val, y_pred_val, y_test, y_pred_test)"
   ]
  },
  {
   "cell_type": "code",
   "execution_count": 101,
   "metadata": {},
   "outputs": [
    {
     "data": {
      "text/html": [
       "<div>\n",
       "<style scoped>\n",
       "    .dataframe tbody tr th:only-of-type {\n",
       "        vertical-align: middle;\n",
       "    }\n",
       "\n",
       "    .dataframe tbody tr th {\n",
       "        vertical-align: top;\n",
       "    }\n",
       "\n",
       "    .dataframe thead th {\n",
       "        text-align: right;\n",
       "    }\n",
       "</style>\n",
       "<table border=\"1\" class=\"dataframe\">\n",
       "  <thead>\n",
       "    <tr style=\"text-align: right;\">\n",
       "      <th></th>\n",
       "      <th>train</th>\n",
       "      <th>val</th>\n",
       "      <th>test</th>\n",
       "    </tr>\n",
       "  </thead>\n",
       "  <tbody>\n",
       "    <tr>\n",
       "      <th>loss</th>\n",
       "      <td>0.6133</td>\n",
       "      <td>0.5908</td>\n",
       "      <td>0.6594</td>\n",
       "    </tr>\n",
       "    <tr>\n",
       "      <th>accuracy</th>\n",
       "      <td>0.6586</td>\n",
       "      <td>0.7186</td>\n",
       "      <td>0.6202</td>\n",
       "    </tr>\n",
       "    <tr>\n",
       "      <th>tpr/ recall</th>\n",
       "      <td>0.6377</td>\n",
       "      <td>0.6951</td>\n",
       "      <td>0.6058</td>\n",
       "    </tr>\n",
       "    <tr>\n",
       "      <th>fpr</th>\n",
       "      <td>0.3202</td>\n",
       "      <td>0.2588</td>\n",
       "      <td>0.3654</td>\n",
       "    </tr>\n",
       "    <tr>\n",
       "      <th>precision</th>\n",
       "      <td>0.6677</td>\n",
       "      <td>0.7215</td>\n",
       "      <td>0.6238</td>\n",
       "    </tr>\n",
       "    <tr>\n",
       "      <th>f1 score</th>\n",
       "      <td>0.6524</td>\n",
       "      <td>0.7081</td>\n",
       "      <td>0.6146</td>\n",
       "    </tr>\n",
       "    <tr>\n",
       "      <th>auc</th>\n",
       "      <td>0.7209</td>\n",
       "      <td>0.7835</td>\n",
       "      <td>0.6586</td>\n",
       "    </tr>\n",
       "  </tbody>\n",
       "</table>\n",
       "</div>"
      ],
      "text/plain": [
       "             train    val   test\n",
       "loss        0.6133 0.5908 0.6594\n",
       "accuracy    0.6586 0.7186 0.6202\n",
       "tpr/ recall 0.6377 0.6951 0.6058\n",
       "fpr         0.3202 0.2588 0.3654\n",
       "precision   0.6677 0.7215 0.6238\n",
       "f1 score    0.6524 0.7081 0.6146\n",
       "auc         0.7209 0.7835 0.6586"
      ]
     },
     "execution_count": 101,
     "metadata": {},
     "output_type": "execute_result"
    }
   ],
   "source": [
    "X_train_val = np.concatenate([X_train, X_val])\n",
    "y_train_val = np.concatenate([y_train, y_val])\n",
    "\n",
    "logreg = LogisticRegression()\n",
    "logreg.fit(X_train_val, y_train_val)\n",
    "\n",
    "y_pred_train = logreg.predict_proba(X_train)[:, 1]\n",
    "y_pred_val = logreg.predict_proba(X_val)[:, 1]\n",
    "y_pred_test = logreg.predict_proba(X_test)[:, 1]\n",
    "\n",
    "summary_table(y_train, y_pred_train, y_val, y_pred_val, y_test, y_pred_test)"
   ]
  },
  {
   "cell_type": "code",
   "execution_count": 67,
   "metadata": {},
   "outputs": [
    {
     "data": {
      "text/html": [
       "<div>\n",
       "<style scoped>\n",
       "    .dataframe tbody tr th:only-of-type {\n",
       "        vertical-align: middle;\n",
       "    }\n",
       "\n",
       "    .dataframe tbody tr th {\n",
       "        vertical-align: top;\n",
       "    }\n",
       "\n",
       "    .dataframe thead th {\n",
       "        text-align: right;\n",
       "    }\n",
       "</style>\n",
       "<table border=\"1\" class=\"dataframe\">\n",
       "  <thead>\n",
       "    <tr style=\"text-align: right;\">\n",
       "      <th></th>\n",
       "      <th>Loss: train</th>\n",
       "      <th>Loss: val</th>\n",
       "      <th>Loss: test</th>\n",
       "      <th>Acc: train</th>\n",
       "      <th>Acc: val</th>\n",
       "      <th>Acc: test</th>\n",
       "      <th>Num epochs</th>\n",
       "      <th>Time (s)</th>\n",
       "    </tr>\n",
       "  </thead>\n",
       "  <tbody>\n",
       "    <tr>\n",
       "      <th>0</th>\n",
       "      <td>0.5359</td>\n",
       "      <td>0.5981</td>\n",
       "      <td>0.6522</td>\n",
       "      <td>0.7383</td>\n",
       "      <td>0.6946</td>\n",
       "      <td>0.6490</td>\n",
       "      <td>145</td>\n",
       "      <td>9.8664</td>\n",
       "    </tr>\n",
       "  </tbody>\n",
       "</table>\n",
       "</div>"
      ],
      "text/plain": [
       "   Loss: train  Loss: val  Loss: test  Acc: train  Acc: val  Acc: test  \\\n",
       "0       0.5359     0.5981      0.6522      0.7383    0.6946     0.6490   \n",
       "\n",
       "  Num epochs  Time (s)  \n",
       "0        145    9.8664  "
      ]
     },
     "execution_count": 67,
     "metadata": {},
     "output_type": "execute_result"
    }
   ],
   "source": []
  },
  {
   "cell_type": "code",
   "execution_count": 81,
   "metadata": {},
   "outputs": [
    {
     "data": {
      "text/plain": [
       "0.8109882953126978"
      ]
     },
     "execution_count": 81,
     "metadata": {},
     "output_type": "execute_result"
    }
   ],
   "source": [
    "[roc_auc_score(y_train, y_pred_train), roc_auc_score(y_val, y_pred_val), roc_auc_score(y_test, y_pred_test)]"
   ]
  },
  {
   "cell_type": "code",
   "execution_count": 72,
   "metadata": {},
   "outputs": [],
   "source": [
    "def my_confusion_matrix(y_true, y_pred):\n",
    "    df_conf_mat = pd.DataFrame(confusion_matrix(y_true, np.where(y_pred > 0.5, 1, 0)))\n",
    "    df_conf_mat.rename(columns={0: \"Pred negative\", 1: \"Pred positive\"},\n",
    "                       index={0: \"Actual negative\", 1: \"Actual positive\"}, inplace=True)\n",
    "    df_conf_mat.loc[\"Total pred\"] = df_conf_mat.sum(axis=0)\n",
    "    df_conf_mat[\"Total actual\"] = df_conf_mat.sum(axis=1)\n",
    "    return df_conf_mat"
   ]
  },
  {
   "cell_type": "code",
   "execution_count": 100,
   "metadata": {},
   "outputs": [],
   "source": [
    "# metrics\n",
    "def my_confusion_matrix(y_true, y_pred):\n",
    "    df_conf_mat = pd.DataFrame(confusion_matrix(y_true, np.where(y_pred > 0.5, 1, 0)))\n",
    "    df_conf_mat.rename(columns={0: \"Pred negative\", 1: \"Pred positive\"},\n",
    "                       index={0: \"Actual negative\", 1: \"Actual positive\"}, inplace=True)\n",
    "    df_conf_mat.loc[\"Total pred\"] = df_conf_mat.sum(axis=0)\n",
    "    df_conf_mat[\"Total actual\"] = df_conf_mat.sum(axis=1)\n",
    "    return df_conf_mat\n",
    "\n",
    "def tpr(y_true, y_pred):\n",
    "    confusion_mat = my_confusion_matrix(y_true, y_pred)\n",
    "    return (confusion_mat.loc[\"Actual positive\", \"Pred positive\"] / \n",
    "            confusion_mat.loc[\"Actual positive\", \"Total actual\"])\n",
    "\n",
    "def fpr(y_true, y_pred):\n",
    "    confusion_mat = my_confusion_matrix(y_true, y_pred)\n",
    "    return (confusion_mat.loc[\"Actual negative\", \"Pred positive\"] / \n",
    "            confusion_mat.loc[\"Actual negative\", \"Total actual\"])\n",
    "\n",
    "def precision(y_true, y_pred):\n",
    "    confusion_mat = my_confusion_matrix(y_true, y_pred)\n",
    "    return (confusion_mat.loc[\"Actual positive\", \"Pred positive\"] / \n",
    "            confusion_mat.loc[\"Total pred\", \"Pred positive\"])\n",
    "\n",
    "def log_loss(y_true, y_pred):\n",
    "    return -np.mean(y_true * np.log(y_pred) + (1 - y_true) * np.log(1 - y_pred))\n",
    "\n",
    "def accuracy(y_true, y_pred):\n",
    "    return np.mean(y_true == np.where(y_pred > 0.5, 1, 0))\n",
    "\n",
    "def my_f1_score(y_true, y_pred):\n",
    "    precision_ = precision(y_true, y_pred)\n",
    "    recall_ = tpr(y_true, y_pred)\n",
    "    return 2 * precision_ * recall_ / (precision_ + recall_)\n",
    "\n",
    "def summary_table(y_train, y_pred_train, y_val, y_pred_val, y_test, y_pred_test):\n",
    "    df = pd.DataFrame({\n",
    "        \"loss\": [log_loss(y_train, y_pred_train), log_loss(y_val, y_pred_val), log_loss(y_test, y_pred_test)],\n",
    "        \"accuracy\": [accuracy(y_train, y_pred_train), accuracy(y_val, y_pred_val), accuracy(y_test, y_pred_test)],\n",
    "        \"tpr/ recall\": [tpr(y_train, y_pred_train), tpr(y_val, y_pred_val), tpr(y_test, y_pred_test)],\n",
    "        \"fpr\": [fpr(y_train, y_pred_train), fpr(y_val, y_pred_val), fpr(y_test, y_pred_test)],\n",
    "        \"precision\": [precision(y_train, y_pred_train), precision(y_val, y_pred_val), precision(y_test, y_pred_test)],\n",
    "        \"f1 score\": [my_f1_score(y_train, y_pred_train), my_f1_score(y_val, y_pred_val), my_f1_score(y_test, y_pred_test)],\n",
    "        \"auc\": [roc_auc_score(y_train, y_pred_train), roc_auc_score(y_val, y_pred_val), roc_auc_score(y_test, y_pred_test)]}, \n",
    "        index=[\"train\", \"val\", \"test\"]).T\n",
    "\n",
    "    return df"
   ]
  },
  {
   "cell_type": "markdown",
   "metadata": {},
   "source": [
    "# Scratch"
   ]
  },
  {
   "cell_type": "code",
   "execution_count": 11,
   "metadata": {},
   "outputs": [
    {
     "name": "stdout",
     "output_type": "stream",
     "text": [
      "Best model: starting run 1 out of 1\n"
     ]
    }
   ],
   "source": [
    "clm = ClassificationModel((X_train, y_train), (X_val, y_val), (X_test, y_test),\n",
    "                                  caption=f\"Best model\", \n",
    "                          lr=0.01, mom=0.01,\n",
    "                          n_hidden_layers=1, n_hidden_neurons=25, n_reps=1)\n",
    "r, results, _ = clm.evaluate(write=False)\n",
    "model = clm.model"
   ]
  },
  {
   "cell_type": "code",
   "execution_count": 13,
   "metadata": {},
   "outputs": [
    {
     "data": {
      "text/plain": [
       "<matplotlib.legend.Legend at 0x7fc29a0c2d90>"
      ]
     },
     "execution_count": 13,
     "metadata": {},
     "output_type": "execute_result"
    },
    {
     "data": {
      "image/png": "[encoded data removed]",
      "text/plain": [
       "<Figure size 576x288 with 2 Axes>"
      ]
     },
     "metadata": {
      "needs_background": "light"
     },
     "output_type": "display_data"
    }
   ],
   "source": [
    "fig = plt.figure(figsize=(8, 4))\n",
    "plt.subplot(1, 2, 1)\n",
    "plt.title(f\"Loss per iteration - best model\")\n",
    "plt.plot(r.history['loss'], label='Loss')\n",
    "plt.plot(r.history['val_loss'], label='Validation Loss')\n",
    "plt.legend()\n",
    "\n",
    "plt.subplot(1, 2, 2)\n",
    "plt.title(f\"Accuracy per iteration - best model\")\n",
    "plt.plot(r.history['accuracy'], label='Accuracy')\n",
    "plt.plot(r.history['val_accuracy'], label='Validation Accuracy')\n",
    "plt.legend()"
   ]
  },
  {
   "cell_type": "code",
   "execution_count": 14,
   "metadata": {},
   "outputs": [
    {
     "ename": "NameError",
     "evalue": "name 'y_pred_train' is not defined",
     "output_type": "error",
     "traceback": [
      "\u001b[0;31m---------------------------------------------------------------------------\u001b[0m",
      "\u001b[0;31mNameError\u001b[0m                                 Traceback (most recent call last)",
      "\u001b[0;32m<ipython-input-14-ed136e5fd7fb>\u001b[0m in \u001b[0;36m<module>\u001b[0;34m\u001b[0m\n\u001b[0;32m----> 1\u001b[0;31m \u001b[0mroc_train\u001b[0m \u001b[0;34m=\u001b[0m \u001b[0mroc_curve\u001b[0m\u001b[0;34m(\u001b[0m\u001b[0my_train\u001b[0m\u001b[0;34m,\u001b[0m \u001b[0my_pred_train\u001b[0m\u001b[0;34m)\u001b[0m\u001b[0;34m\u001b[0m\u001b[0;34m\u001b[0m\u001b[0m\n\u001b[0m\u001b[1;32m      2\u001b[0m \u001b[0mroc_val\u001b[0m \u001b[0;34m=\u001b[0m \u001b[0mroc_curve\u001b[0m\u001b[0;34m(\u001b[0m\u001b[0my_val\u001b[0m\u001b[0;34m,\u001b[0m \u001b[0my_pred_val\u001b[0m\u001b[0;34m)\u001b[0m\u001b[0;34m\u001b[0m\u001b[0;34m\u001b[0m\u001b[0m\n\u001b[1;32m      3\u001b[0m \u001b[0mroc_test\u001b[0m \u001b[0;34m=\u001b[0m \u001b[0mroc_curve\u001b[0m\u001b[0;34m(\u001b[0m\u001b[0my_test\u001b[0m\u001b[0;34m,\u001b[0m \u001b[0my_pred_test\u001b[0m\u001b[0;34m)\u001b[0m\u001b[0;34m\u001b[0m\u001b[0;34m\u001b[0m\u001b[0m\n",
      "\u001b[0;31mNameError\u001b[0m: name 'y_pred_train' is not defined"
     ]
    }
   ],
   "source": [
    "roc_train = roc_curve(y_train, y_pred_train)\n",
    "roc_val = roc_curve(y_val, y_pred_val)\n",
    "roc_test = roc_curve(y_test, y_pred_test)"
   ]
  },
  {
   "cell_type": "code",
   "execution_count": 10,
   "metadata": {},
   "outputs": [
    {
     "name": "stdout",
     "output_type": "stream",
     "text": [
      "Best model: starting run 1 out of 1\n"
     ]
    }
   ],
   "source": [
    "data = pd.read_csv(\"data/data.csv\")\n",
    "X_train = np.loadtxt(\"data/X_train.txt\")\n",
    "y_train = np.loadtxt(\"data/y_train.txt\")\n",
    "X_val = np.loadtxt(\"data/X_val.txt\")\n",
    "y_val = np.loadtxt(\"data/y_val.txt\")\n",
    "X_test = np.loadtxt(\"data/X_test.txt\")\n",
    "y_test = np.loadtxt(\"data/y_test.txt\")\n",
    "\n",
    "# clm = ClassificationModel((X_train, y_train), (X_val, y_val), (X_test, y_test),\n",
    "#                               caption=f\"Best model\",\n",
    "#                               optim=\"sgd\",\n",
    "#                               lr=0.01, mom=0.00,\n",
    "#                               n_hidden_layers=1, n_hidden_neurons=25, n_reps=1)\n",
    "# r, results, _ = clm.evaluate(write=False)\n",
    "\n",
    "# y_pred_train = clm.model.predict(X_train)\n",
    "# y_pred_val = clm.model.predict(X_val)\n",
    "# y_pred_test = clm.model.predict(X_test)"
   ]
  },
  {
   "cell_type": "code",
   "execution_count": 39,
   "metadata": {},
   "outputs": [],
   "source": [
    "X_train_val = np.concatenate([X_train, X_val])\n",
    "y_train_val = np.concatenate([y_train, y_val])"
   ]
  },
  {
   "cell_type": "code",
   "execution_count": 45,
   "metadata": {},
   "outputs": [],
   "source": [
    "logreg = LogisticRegression()"
   ]
  },
  {
   "cell_type": "code",
   "execution_count": 46,
   "metadata": {},
   "outputs": [
    {
     "name": "stderr",
     "output_type": "stream",
     "text": [
      "/opt/anaconda3/lib/python3.7/site-packages/sklearn/linear_model/logistic.py:432: FutureWarning:\n",
      "\n",
      "Default solver will be changed to 'lbfgs' in 0.22. Specify a solver to silence this warning.\n",
      "\n"
     ]
    },
    {
     "data": {
      "text/plain": [
       "LogisticRegression(C=1.0, class_weight=None, dual=False, fit_intercept=True,\n",
       "                   intercept_scaling=1, l1_ratio=None, max_iter=100,\n",
       "                   multi_class='warn', n_jobs=None, penalty='l2',\n",
       "                   random_state=None, solver='warn', tol=0.0001, verbose=0,\n",
       "                   warm_start=False)"
      ]
     },
     "execution_count": 46,
     "metadata": {},
     "output_type": "execute_result"
    }
   ],
   "source": [
    "logreg.fit(X_train_val, y_train_val)"
   ]
  },
  {
   "cell_type": "code",
   "execution_count": 53,
   "metadata": {},
   "outputs": [
    {
     "data": {
      "text/plain": [
       "0.6586466165413534"
      ]
     },
     "execution_count": 53,
     "metadata": {},
     "output_type": "execute_result"
    }
   ],
   "source": [
    "logreg.score(X_train, y_train)"
   ]
  },
  {
   "cell_type": "code",
   "execution_count": 54,
   "metadata": {},
   "outputs": [
    {
     "data": {
      "text/plain": [
       "0.6586466165413534"
      ]
     },
     "execution_count": 54,
     "metadata": {},
     "output_type": "execute_result"
    }
   ],
   "source": [
    "np.mean(logreg.predict(X_train) == y_train)"
   ]
  }
 ],
 "metadata": {
  "kernelspec": {
   "display_name": "Python 3",
   "language": "python",
   "name": "python3"
  },
  "language_info": {
   "codemirror_mode": {
    "name": "ipython",
    "version": 3
   },
   "file_extension": ".py",
   "mimetype": "text/x-python",
   "name": "python",
   "nbconvert_exporter": "python",
   "pygments_lexer": "ipython3",
   "version": "3.7.4"
  }
 },
 "nbformat": 4,
 "nbformat_minor": 2
}
