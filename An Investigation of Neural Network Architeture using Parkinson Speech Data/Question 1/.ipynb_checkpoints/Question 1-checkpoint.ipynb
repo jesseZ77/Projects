{
 "cells": [
  {
   "cell_type": "code",
   "execution_count": 36,
   "metadata": {},
   "outputs": [],
   "source": [
    "import pandas as pd\n",
    "import numpy as np\n",
    "import matplotlib.pyplot as plt\n",
    "%matplotlib inline\n",
    "\n",
    "from sklearn.model_selection import train_test_split\n",
    "from sklearn.preprocessing import StandardScaler\n",
    "from sklearn.metrics import roc_curve, roc_auc_score, confusion_matrix, precision_recall_curve, f1_score\n",
    "\n",
    "import tensorflow as tf\n",
    "from tensorflow.keras.layers import Input, Dense\n",
    "from tensorflow.keras.models import Model\n",
    "from tensorflow.keras.callbacks import ModelCheckpoint, EarlyStopping\n",
    "from tensorflow.keras.optimizers import SGD, Adam\n",
    "\n",
    "from IPython.display import display\n",
    "\n",
    "import re\n",
    "from textwrap import wrap\n",
    "\n",
    "from time import time\n",
    "\n",
    "from seaborn import heatmap\n",
    "\n",
    "from scipy.stats import t"
   ]
  },
  {
   "cell_type": "markdown",
   "metadata": {},
   "source": [
    "# Data set description\n",
    "[UCI Machine Learning Repository](https://archive.ics.uci.edu/ml/datasets/Parkinson+Speech+Dataset+with++Multiple+Types+of+Sound+Recordings#)\n",
    "\n",
    "Attribute Information:\n",
    "\n",
    "Training Data File:\n",
    "- column 1: Subject id\n",
    "- colum 2-27: features\n",
    "    - features 1-5: Jitter (local),Jitter (local, absolute),Jitter (rap),Jitter (ppq5),Jitter (ddp),\n",
    "    - features 6-11: Shimmer (local),Shimmer (local, dB),Shimmer (apq3),Shimmer (apq5), Shimmer (apq11),Shimmer (dda),\n",
    "    - features 12-14: AC,NTH,HTN,\n",
    "    - features 15-19: Median pitch,Mean pitch,Standard deviation,Minimum pitch,Maximum pitch,\n",
    "    - features 20-23: Number of pulses,Number of periods,Mean period,Standard deviation of period, \n",
    "    - features 24-26: Fraction of locally unvoiced frames,Number of voice breaks,Degree of voice breaks\n",
    "- column 28: UPDRS\n",
    "- column 29: class information"
   ]
  },
  {
   "cell_type": "markdown",
   "metadata": {},
   "source": [
    "# Data preparation"
   ]
  },
  {
   "cell_type": "markdown",
   "metadata": {},
   "source": [
    "### Cleaning and save"
   ]
  },
  {
   "cell_type": "code",
   "execution_count": 30,
   "metadata": {},
   "outputs": [],
   "source": [
    "# col_names = [\"id\",\n",
    "#              \"jitter local\", \"jitter local abs\", \"jitter rap\", \"jitter ppq5\", \"jitter ddp\",\n",
    "#              \"shimmer local\", \"shimmer local db\", \"shimmer apq3\", \"shimmer apq5\", \"shimmer apq11\", \"shimmer dda\",\n",
    "#              \"ac\", \"nth\", \"htn\",\n",
    "#              \"median pitch\", \"mean pitch\", \"standard deviation of pitch\", \"minimum pitch\", \"maximum pitch\",\n",
    "#              \"number of pulses\", \"number of periods\", \"mean period\", \"standard deviation of period\", \n",
    "#              \"fraction of locally unvoiced frames\", \"number of voice breaks\", \"degree of voice breaks\",\n",
    "#              \"updrs\",\n",
    "#              \"class\"]\n",
    "\n",
    "# data_raw = pd.read_csv(\"data/raw_data.txt\", header=None)\n",
    "# data_raw.columns = col_names\n",
    "# data = data_raw.drop(columns=[\"id\", \"updrs\"])\n",
    "# data.to_csv(\"data/processed_data.csv\", index=False)\n",
    "\n",
    "# X = data.drop(\"class\", axis=1).values\n",
    "# y = data[\"class\"].values\n",
    "# X_train, X_test, y_train, y_test = train_test_split(X, y, test_size=0.2)\n",
    "# X_train, X_val, y_train, y_val = train_test_split(X_train, y_train, test_size=0.2)\n",
    "\n",
    "# scaler = StandardScaler()\n",
    "# scaler.fit(X_train)\n",
    "# X_train = scaler.transform(X_train)\n",
    "# X_val = scaler.transform(X_val)\n",
    "# X_test = scaler.transform(X_test)\n",
    "\n",
    "# np.savetxt(\"data/X_train.txt\", X_train)\n",
    "# np.savetxt(\"data/y_train.txt\", y_train)\n",
    "# np.savetxt(\"data/X_val.txt\", X_val)\n",
    "# np.savetxt(\"data/y_val.txt\", y_val)\n",
    "# np.savetxt(\"data/X_test.txt\", X_test)\n",
    "# np.savetxt(\"data/y_test.txt\", y_test)"
   ]
  },
  {
   "cell_type": "code",
   "execution_count": 31,
   "metadata": {},
   "outputs": [
    {
     "name": "stdout",
     "output_type": "stream",
     "text": [
      "num train: 0.64 (665)\n",
      "num val: 0.16 (167)\n",
      "num test: 0.2 (208)\n"
     ]
    }
   ],
   "source": [
    "data = pd.read_csv(\"data/data.csv\")\n",
    "features = [col for col in data.columns if col.lower != \"class\"]\n",
    "X_train = np.loadtxt(\"data/X_train.txt\")\n",
    "y_train = np.loadtxt(\"data/y_train.txt\")\n",
    "X_val = np.loadtxt(\"data/X_val.txt\")\n",
    "y_val = np.loadtxt(\"data/y_val.txt\")\n",
    "X_test = np.loadtxt(\"data/X_test.txt\")\n",
    "y_test = np.loadtxt(\"data/y_test.txt\")\n",
    "\n",
    "print(f'num train: {np.round(len(X_train) / len(data), 2)} ({len(X_train)})')\n",
    "print(f'num val: {np.round(len(X_val) / len(data), 2)} ({len(X_val)})')\n",
    "print(f'num test: {np.round(len(X_test) / len(data), 2)} ({len(X_test)})')"
   ]
  },
  {
   "cell_type": "markdown",
   "metadata": {},
   "source": [
    "# Data visualisation"
   ]
  },
  {
   "cell_type": "markdown",
   "metadata": {},
   "source": [
    "### Feature: summary statistics"
   ]
  },
  {
   "cell_type": "code",
   "execution_count": 32,
   "metadata": {},
   "outputs": [
    {
     "data": {
      "text/html": [
       "<div>\n",
       "<style scoped>\n",
       "    .dataframe tbody tr th:only-of-type {\n",
       "        vertical-align: middle;\n",
       "    }\n",
       "\n",
       "    .dataframe tbody tr th {\n",
       "        vertical-align: top;\n",
       "    }\n",
       "\n",
       "    .dataframe thead th {\n",
       "        text-align: right;\n",
       "    }\n",
       "</style>\n",
       "<table border=\"1\" class=\"dataframe\">\n",
       "  <thead>\n",
       "    <tr style=\"text-align: right;\">\n",
       "      <th></th>\n",
       "      <th>mean</th>\n",
       "      <th>std</th>\n",
       "      <th>min</th>\n",
       "      <th>25%</th>\n",
       "      <th>75%</th>\n",
       "      <th>max</th>\n",
       "    </tr>\n",
       "  </thead>\n",
       "  <tbody>\n",
       "    <tr>\n",
       "      <th>jitter local</th>\n",
       "      <td>2.6795</td>\n",
       "      <td>1.7651</td>\n",
       "      <td>0.1900</td>\n",
       "      <td>1.5075</td>\n",
       "      <td>3.4115</td>\n",
       "      <td>14.3760</td>\n",
       "    </tr>\n",
       "    <tr>\n",
       "      <th>jitter local abs</th>\n",
       "      <td>0.0002</td>\n",
       "      <td>0.0001</td>\n",
       "      <td>0.0000</td>\n",
       "      <td>0.0001</td>\n",
       "      <td>0.0002</td>\n",
       "      <td>0.0008</td>\n",
       "    </tr>\n",
       "    <tr>\n",
       "      <th>jitter rap</th>\n",
       "      <td>1.2471</td>\n",
       "      <td>0.9795</td>\n",
       "      <td>0.0620</td>\n",
       "      <td>0.6170</td>\n",
       "      <td>1.6025</td>\n",
       "      <td>8.0160</td>\n",
       "    </tr>\n",
       "    <tr>\n",
       "      <th>jitter ppq5</th>\n",
       "      <td>1.3483</td>\n",
       "      <td>1.1387</td>\n",
       "      <td>0.0810</td>\n",
       "      <td>0.6658</td>\n",
       "      <td>1.6947</td>\n",
       "      <td>13.5420</td>\n",
       "    </tr>\n",
       "    <tr>\n",
       "      <th>jitter ddp</th>\n",
       "      <td>3.7412</td>\n",
       "      <td>2.9384</td>\n",
       "      <td>0.1850</td>\n",
       "      <td>1.8518</td>\n",
       "      <td>4.8085</td>\n",
       "      <td>24.0480</td>\n",
       "    </tr>\n",
       "    <tr>\n",
       "      <th>shimmer local</th>\n",
       "      <td>12.9184</td>\n",
       "      <td>5.4522</td>\n",
       "      <td>1.1850</td>\n",
       "      <td>9.3535</td>\n",
       "      <td>15.4932</td>\n",
       "      <td>41.1370</td>\n",
       "    </tr>\n",
       "    <tr>\n",
       "      <th>shimmer local db</th>\n",
       "      <td>1.1949</td>\n",
       "      <td>0.4201</td>\n",
       "      <td>0.1030</td>\n",
       "      <td>0.9410</td>\n",
       "      <td>1.4110</td>\n",
       "      <td>2.7210</td>\n",
       "    </tr>\n",
       "    <tr>\n",
       "      <th>shimmer apq3</th>\n",
       "      <td>5.6996</td>\n",
       "      <td>3.0152</td>\n",
       "      <td>0.4960</td>\n",
       "      <td>3.7030</td>\n",
       "      <td>6.9420</td>\n",
       "      <td>25.8200</td>\n",
       "    </tr>\n",
       "    <tr>\n",
       "      <th>shimmer apq5</th>\n",
       "      <td>7.9836</td>\n",
       "      <td>4.8409</td>\n",
       "      <td>0.7080</td>\n",
       "      <td>5.1603</td>\n",
       "      <td>9.5589</td>\n",
       "      <td>72.8600</td>\n",
       "    </tr>\n",
       "    <tr>\n",
       "      <th>shimmer apq11</th>\n",
       "      <td>12.2153</td>\n",
       "      <td>6.0163</td>\n",
       "      <td>0.5170</td>\n",
       "      <td>8.0795</td>\n",
       "      <td>15.3061</td>\n",
       "      <td>44.7640</td>\n",
       "    </tr>\n",
       "    <tr>\n",
       "      <th>shimmer dda</th>\n",
       "      <td>17.0988</td>\n",
       "      <td>9.0455</td>\n",
       "      <td>1.4880</td>\n",
       "      <td>11.1095</td>\n",
       "      <td>20.8260</td>\n",
       "      <td>77.4590</td>\n",
       "    </tr>\n",
       "    <tr>\n",
       "      <th>ac</th>\n",
       "      <td>0.8460</td>\n",
       "      <td>0.0857</td>\n",
       "      <td>0.5396</td>\n",
       "      <td>0.8030</td>\n",
       "      <td>0.9042</td>\n",
       "      <td>0.9979</td>\n",
       "    </tr>\n",
       "    <tr>\n",
       "      <th>nth</th>\n",
       "      <td>0.2314</td>\n",
       "      <td>0.1513</td>\n",
       "      <td>0.0021</td>\n",
       "      <td>0.1269</td>\n",
       "      <td>0.2976</td>\n",
       "      <td>0.8693</td>\n",
       "    </tr>\n",
       "    <tr>\n",
       "      <th>htn</th>\n",
       "      <td>9.9995</td>\n",
       "      <td>4.2913</td>\n",
       "      <td>0.6950</td>\n",
       "      <td>7.5102</td>\n",
       "      <td>12.0872</td>\n",
       "      <td>28.4180</td>\n",
       "    </tr>\n",
       "    <tr>\n",
       "      <th>median pitch</th>\n",
       "      <td>163.3683</td>\n",
       "      <td>56.0217</td>\n",
       "      <td>81.4600</td>\n",
       "      <td>124.0757</td>\n",
       "      <td>192.4768</td>\n",
       "      <td>468.6180</td>\n",
       "    </tr>\n",
       "    <tr>\n",
       "      <th>mean pitch</th>\n",
       "      <td>168.7276</td>\n",
       "      <td>55.9699</td>\n",
       "      <td>82.3630</td>\n",
       "      <td>126.5947</td>\n",
       "      <td>201.2205</td>\n",
       "      <td>470.4560</td>\n",
       "    </tr>\n",
       "    <tr>\n",
       "      <th>standard deviation of pitch</th>\n",
       "      <td>27.5476</td>\n",
       "      <td>36.6726</td>\n",
       "      <td>0.5330</td>\n",
       "      <td>7.2955</td>\n",
       "      <td>27.5530</td>\n",
       "      <td>293.8770</td>\n",
       "    </tr>\n",
       "    <tr>\n",
       "      <th>minimum pitch</th>\n",
       "      <td>134.5381</td>\n",
       "      <td>47.0581</td>\n",
       "      <td>67.9570</td>\n",
       "      <td>100.8522</td>\n",
       "      <td>159.6647</td>\n",
       "      <td>452.0830</td>\n",
       "    </tr>\n",
       "    <tr>\n",
       "      <th>maximum pitch</th>\n",
       "      <td>234.8760</td>\n",
       "      <td>121.5412</td>\n",
       "      <td>85.5410</td>\n",
       "      <td>143.6508</td>\n",
       "      <td>263.7982</td>\n",
       "      <td>597.9740</td>\n",
       "    </tr>\n",
       "    <tr>\n",
       "      <th>number of pulses</th>\n",
       "      <td>109.7442</td>\n",
       "      <td>150.0277</td>\n",
       "      <td>0.0000</td>\n",
       "      <td>42.7500</td>\n",
       "      <td>113.0000</td>\n",
       "      <td>1,490.0000</td>\n",
       "    </tr>\n",
       "    <tr>\n",
       "      <th>number of periods</th>\n",
       "      <td>105.9692</td>\n",
       "      <td>149.4171</td>\n",
       "      <td>0.0000</td>\n",
       "      <td>40.7500</td>\n",
       "      <td>109.0000</td>\n",
       "      <td>1,489.0000</td>\n",
       "    </tr>\n",
       "    <tr>\n",
       "      <th>mean period</th>\n",
       "      <td>0.0065</td>\n",
       "      <td>0.0019</td>\n",
       "      <td>0.0020</td>\n",
       "      <td>0.0050</td>\n",
       "      <td>0.0079</td>\n",
       "      <td>0.0121</td>\n",
       "    </tr>\n",
       "    <tr>\n",
       "      <th>standard deviation of period</th>\n",
       "      <td>0.0008</td>\n",
       "      <td>0.0007</td>\n",
       "      <td>0.0001</td>\n",
       "      <td>0.0004</td>\n",
       "      <td>0.0010</td>\n",
       "      <td>0.0064</td>\n",
       "    </tr>\n",
       "    <tr>\n",
       "      <th>fraction of locally unvoiced frames</th>\n",
       "      <td>27.6829</td>\n",
       "      <td>20.9753</td>\n",
       "      <td>0.0000</td>\n",
       "      <td>8.1493</td>\n",
       "      <td>43.0643</td>\n",
       "      <td>88.1580</td>\n",
       "    </tr>\n",
       "    <tr>\n",
       "      <th>number of voice breaks</th>\n",
       "      <td>1.1346</td>\n",
       "      <td>1.6148</td>\n",
       "      <td>0.0000</td>\n",
       "      <td>0.0000</td>\n",
       "      <td>1.0000</td>\n",
       "      <td>12.0000</td>\n",
       "    </tr>\n",
       "    <tr>\n",
       "      <th>degree of voice breaks</th>\n",
       "      <td>12.3700</td>\n",
       "      <td>15.1619</td>\n",
       "      <td>0.0000</td>\n",
       "      <td>0.0000</td>\n",
       "      <td>22.2555</td>\n",
       "      <td>69.1170</td>\n",
       "    </tr>\n",
       "  </tbody>\n",
       "</table>\n",
       "</div>"
      ],
      "text/plain": [
       "                                        mean      std     min      25%  \\\n",
       "jitter local                          2.6795   1.7651  0.1900   1.5075   \n",
       "jitter local abs                      0.0002   0.0001  0.0000   0.0001   \n",
       "jitter rap                            1.2471   0.9795  0.0620   0.6170   \n",
       "jitter ppq5                           1.3483   1.1387  0.0810   0.6658   \n",
       "jitter ddp                            3.7412   2.9384  0.1850   1.8518   \n",
       "shimmer local                        12.9184   5.4522  1.1850   9.3535   \n",
       "shimmer local db                      1.1949   0.4201  0.1030   0.9410   \n",
       "shimmer apq3                          5.6996   3.0152  0.4960   3.7030   \n",
       "shimmer apq5                          7.9836   4.8409  0.7080   5.1603   \n",
       "shimmer apq11                        12.2153   6.0163  0.5170   8.0795   \n",
       "shimmer dda                          17.0988   9.0455  1.4880  11.1095   \n",
       "ac                                    0.8460   0.0857  0.5396   0.8030   \n",
       "nth                                   0.2314   0.1513  0.0021   0.1269   \n",
       "htn                                   9.9995   4.2913  0.6950   7.5102   \n",
       "median pitch                        163.3683  56.0217 81.4600 124.0757   \n",
       "mean pitch                          168.7276  55.9699 82.3630 126.5947   \n",
       "standard deviation of pitch          27.5476  36.6726  0.5330   7.2955   \n",
       "minimum pitch                       134.5381  47.0581 67.9570 100.8522   \n",
       "maximum pitch                       234.8760 121.5412 85.5410 143.6508   \n",
       "number of pulses                    109.7442 150.0277  0.0000  42.7500   \n",
       "number of periods                   105.9692 149.4171  0.0000  40.7500   \n",
       "mean period                           0.0065   0.0019  0.0020   0.0050   \n",
       "standard deviation of period          0.0008   0.0007  0.0001   0.0004   \n",
       "fraction of locally unvoiced frames  27.6829  20.9753  0.0000   8.1493   \n",
       "number of voice breaks                1.1346   1.6148  0.0000   0.0000   \n",
       "degree of voice breaks               12.3700  15.1619  0.0000   0.0000   \n",
       "\n",
       "                                         75%        max  \n",
       "jitter local                          3.4115    14.3760  \n",
       "jitter local abs                      0.0002     0.0008  \n",
       "jitter rap                            1.6025     8.0160  \n",
       "jitter ppq5                           1.6947    13.5420  \n",
       "jitter ddp                            4.8085    24.0480  \n",
       "shimmer local                        15.4932    41.1370  \n",
       "shimmer local db                      1.4110     2.7210  \n",
       "shimmer apq3                          6.9420    25.8200  \n",
       "shimmer apq5                          9.5589    72.8600  \n",
       "shimmer apq11                        15.3061    44.7640  \n",
       "shimmer dda                          20.8260    77.4590  \n",
       "ac                                    0.9042     0.9979  \n",
       "nth                                   0.2976     0.8693  \n",
       "htn                                  12.0872    28.4180  \n",
       "median pitch                        192.4768   468.6180  \n",
       "mean pitch                          201.2205   470.4560  \n",
       "standard deviation of pitch          27.5530   293.8770  \n",
       "minimum pitch                       159.6647   452.0830  \n",
       "maximum pitch                       263.7982   597.9740  \n",
       "number of pulses                    113.0000 1,490.0000  \n",
       "number of periods                   109.0000 1,489.0000  \n",
       "mean period                           0.0079     0.0121  \n",
       "standard deviation of period          0.0010     0.0064  \n",
       "fraction of locally unvoiced frames  43.0643    88.1580  \n",
       "number of voice breaks                1.0000    12.0000  \n",
       "degree of voice breaks               22.2555    69.1170  "
      ]
     },
     "metadata": {},
     "output_type": "display_data"
    }
   ],
   "source": [
    "summary_stats = data.drop(\"class\", axis=1).describe().T[[\"mean\", \"std\", \"min\", \"25%\", \"75%\", \"max\"]]\n",
    "table = (summary_stats\n",
    "         .applymap(lambda x: str(int(x)) if abs(x - int(x)) < 1e-6 else str(round(x, 2)))\n",
    "         .to_latex(caption=\"Summary statistics\", \n",
    "                   column_format='p{1.75cm}|p{0.60cm}|p{0.60cm}|p{0.60cm}|p{0.60cm}|p{0.60cm}|p{0.60cm}|p{0.60cm}'))\n",
    "table = re.sub(\"\\\\\\\\begin{table}\", \"\\\\\\\\begin{table}[H]\", table)\n",
    "text_file = open(f'Tables/Summary statistics.txt', \"w\")\n",
    "n = text_file.write(table)\n",
    "text_file.close()\n",
    "display(summary_stats)"
   ]
  },
  {
   "cell_type": "markdown",
   "metadata": {},
   "source": [
    "### Features: density plots"
   ]
  },
  {
   "cell_type": "code",
   "execution_count": 33,
   "metadata": {},
   "outputs": [],
   "source": [
    "for k in range(2):\n",
    "    fig = plt.figure(figsize=(9, 9))\n",
    "    for i in range(9):\n",
    "        col = features[i + 9 * k]\n",
    "        plt.subplot(3, 3, i + 1)\n",
    "        plt.hist(data[col], density=True)\n",
    "        plt.title(\"\\n\".join(wrap(col, 20)), fontsize=18)\n",
    "\n",
    "    plt.tight_layout()\n",
    "    fig.savefig(f\"Images/density plots {9 * k + 1}-{9 * (k+1)}.pdf\")\n",
    "    plt.close()\n",
    "    \n",
    "fig = plt.figure(figsize=(9, 9))\n",
    "for i in range(8):\n",
    "    col = features[i + 18]\n",
    "    plt.subplot(3, 3, i + 1)\n",
    "    plt.hist(data[col], density=True)\n",
    "    plt.title(\"\\n\".join(wrap(col, 20)), fontsize=18)\n",
    "plt.tight_layout()\n",
    "fig.savefig(f\"Images/density plots {19}-{26}.pdf\")\n",
    "plt.close()"
   ]
  },
  {
   "cell_type": "markdown",
   "metadata": {},
   "source": [
    "### Target"
   ]
  },
  {
   "cell_type": "code",
   "execution_count": 34,
   "metadata": {},
   "outputs": [
    {
     "data": {
      "text/html": [
       "<div>\n",
       "<style scoped>\n",
       "    .dataframe tbody tr th:only-of-type {\n",
       "        vertical-align: middle;\n",
       "    }\n",
       "\n",
       "    .dataframe tbody tr th {\n",
       "        vertical-align: top;\n",
       "    }\n",
       "\n",
       "    .dataframe thead th {\n",
       "        text-align: right;\n",
       "    }\n",
       "</style>\n",
       "<table border=\"1\" class=\"dataframe\">\n",
       "  <thead>\n",
       "    <tr style=\"text-align: right;\">\n",
       "      <th></th>\n",
       "      <th>count</th>\n",
       "    </tr>\n",
       "    <tr>\n",
       "      <th>class</th>\n",
       "      <th></th>\n",
       "    </tr>\n",
       "  </thead>\n",
       "  <tbody>\n",
       "    <tr>\n",
       "      <th>0</th>\n",
       "      <td>520</td>\n",
       "    </tr>\n",
       "    <tr>\n",
       "      <th>1</th>\n",
       "      <td>520</td>\n",
       "    </tr>\n",
       "  </tbody>\n",
       "</table>\n",
       "</div>"
      ],
      "text/plain": [
       "       count\n",
       "class       \n",
       "0        520\n",
       "1        520"
      ]
     },
     "metadata": {},
     "output_type": "display_data"
    }
   ],
   "source": [
    "class_distribution = data.groupby(\"class\").agg({\"class\": \"count\"}).rename(columns={\"class\": \"count\"})\n",
    "table = class_distribution.to_latex(caption=\"Class distribution\")\n",
    "table = re.sub(\"\\\\\\\\begin{table}\", \"\\\\\\\\begin{table}[H]\", table)\n",
    "text_file = open(f'Tables/Class distribution.txt', \"w\")\n",
    "n = text_file.write(table)\n",
    "text_file.close()\n",
    "display(class_distribution)"
   ]
  },
  {
   "cell_type": "code",
   "execution_count": 35,
   "metadata": {},
   "outputs": [
    {
     "data": {
      "image/png": "[encoded data removed]",
      "text/plain": [
       "<Figure size 576x288 with 1 Axes>"
      ]
     },
     "metadata": {
      "needs_background": "light"
     },
     "output_type": "display_data"
    }
   ],
   "source": [
    "fig = plt.figure(figsize=(8, 4))\n",
    "plt.title(\"Target distribution\")\n",
    "plt.hist(data[\"class\"], density=True)\n",
    "fig.savefig(f\"Images/density plots target.pdf\")\n",
    "plt.show()\n",
    "plt.close()"
   ]
  },
  {
   "cell_type": "markdown",
   "metadata": {},
   "source": [
    "# Functions"
   ]
  },
  {
   "cell_type": "markdown",
   "metadata": {},
   "source": [
    "### Evaluate performance function"
   ]
  },
  {
   "cell_type": "code",
   "execution_count": 43,
   "metadata": {},
   "outputs": [],
   "source": [
    "def evaluate_performance(n_reps=10, optim=\"sgd\", lr=0.01, mom=0.0,\n",
    "                         n_hidden_layers=1, n_hidden_neurons=10, return_summary=True, verbose=False):\n",
    "    \"\"\"\n",
    "    default lr and mom \n",
    "    \"\"\"\n",
    "    \n",
    "    results = pd.DataFrame(\n",
    "        columns=[\"Loss: train\", \"Loss: val\", \"Loss: test\",\n",
    "                 \"Acc: train\", \"Acc: val\", \"Acc: test\",\n",
    "                 \"Num epochs\", \"Time (s)\"])\n",
    "    \n",
    "    for i in range(n_reps):\n",
    "        if verbose:\n",
    "            print(f\"starting run {i + 1} out of {n_reps}\")\n",
    "        \n",
    "        # specify model\n",
    "        i = Input(shape=X_train[0].shape)\n",
    "        x = Dense(n_hidden_neurons, activation=\"relu\")(i)\n",
    "        for _ in range(n_hidden_layers - 1):\n",
    "            x = Dense(n_hidden_neurons, activation=\"relu\")(x)\n",
    "        o = Dense(1, activation='sigmoid')(x)\n",
    "        model = Model(i, o)\n",
    "        \n",
    "        # define early stopping callback\n",
    "        early_stopping_cb = EarlyStopping(patience=10, restore_best_weights=True)\n",
    "        \n",
    "        # define optimizer, loss function and metrics\n",
    "        if optim == \"sgd\":\n",
    "            optimizer = SGD(learning_rate=lr, momentum=mom)\n",
    "        elif optim == \"adam\":\n",
    "            optimizer = Adam()\n",
    "            \n",
    "        model.compile(optimizer=optimizer,\n",
    "                      loss='BinaryCrossentropy',\n",
    "                      metrics=['accuracy'])\n",
    "        \n",
    "        # fit model\n",
    "        start = time()\n",
    "        r = model.fit(X_train, y_train, validation_data=(X_val, y_val), \n",
    "                      epochs=300, verbose=False, callbacks=[early_stopping_cb])\n",
    "        time_taken = time() - start\n",
    "        \n",
    "        # append results\n",
    "        loss_train, acc_train = model.evaluate(X_train, y_train, verbose=False)\n",
    "        loss_validation, acc_validation = model.evaluate(X_val, y_val, verbose=False)\n",
    "        loss_test, acc_test = model.evaluate(X_test, y_test, verbose=False)\n",
    "        \n",
    "        row = pd.DataFrame({\n",
    "            \"Loss: train\": [loss_train],\n",
    "            \"Loss: val\": [loss_validation],\n",
    "            \"Loss: test\": [loss_test],\n",
    "            \"Acc: train\": [acc_train],\n",
    "            \"Acc: val\": [acc_validation],\n",
    "            \"Acc: test\": [acc_test],\n",
    "            \"Num epochs\": [len(r.history[\"loss\"])],\n",
    "            \"Time (s)\": time_taken\n",
    "        })\n",
    "        results = results.append(row, ignore_index=True)\n",
    "    \n",
    "    results_summary = pd.DataFrame({\n",
    "        \"Mean\": results.mean(),\n",
    "        \"Std. dev\": results.std(),\n",
    "        \"CI: lower\": results.mean() - t.ppf(0.975, n_reps - 1) * results.std() / np.sqrt(n_reps),\n",
    "        \"CI: upper\": results.mean() + t.ppf(0.975, n_reps - 1) * results.std() / np.sqrt(n_reps)\n",
    "    })\n",
    "    results_summary[results_summary < 0] = 0\n",
    "    \n",
    "    if return_summary:\n",
    "        return r, model, results, results_summary\n",
    "    return r, model"
   ]
  },
  {
   "cell_type": "markdown",
   "metadata": {},
   "source": [
    "### Write data functions"
   ]
  },
  {
   "cell_type": "code",
   "execution_count": 44,
   "metadata": {},
   "outputs": [],
   "source": [
    "def write_table(results_summary, caption):\n",
    "    table = (results_summary\n",
    "             .applymap(lambda x: str(int(x)) if abs(x - int(x)) < 1e-6 else str(round(x, 4)))\n",
    "             .to_latex(caption=caption, bold_rows=True))\n",
    "    table = re.sub(\"\\\\\\\\begin{table}\", \"\\\\\\\\begin{table}[H]\", table)\n",
    "    text_file = open(f'Tables/{caption}.txt', \"w\")\n",
    "    n = text_file.write(table)\n",
    "    text_file.close()\n",
    "    \n",
    "def write_image(r, caption):\n",
    "    fig = plt.figure(figsize=(8, 4))    \n",
    "    \n",
    "    plt.subplot(1, 2, 1)\n",
    "    plt.title(f\"Loss per iteration - {caption}\")\n",
    "    plt.plot(r.history['loss'], label='Loss')\n",
    "    plt.plot(r.history['val_loss'], label='Validation Loss')\n",
    "    plt.legend()\n",
    "    \n",
    "    plt.subplot(1, 2, 2)\n",
    "    plt.title(f\"Accuracy per iteration - {caption}\")\n",
    "    plt.plot(r.history['accuracy'], label='Accuracy')\n",
    "    plt.plot(r.history['val_accuracy'], label='Validation Accuracy')\n",
    "    plt.legend()\n",
    "    \n",
    "    plt.tight_layout()\n",
    "    fig.savefig(f\"Images/{caption}.pdf\")\n",
    "    plt.close()"
   ]
  },
  {
   "cell_type": "markdown",
   "metadata": {},
   "source": [
    "### Sample usage"
   ]
  },
  {
   "cell_type": "code",
   "execution_count": 9,
   "metadata": {},
   "outputs": [
    {
     "data": {
      "image/png": "[encoded data removed]",
      "text/plain": [
       "<Figure size 432x288 with 1 Axes>"
      ]
     },
     "metadata": {
      "needs_background": "light"
     },
     "output_type": "display_data"
    },
    {
     "data": {
      "image/png": "[encoded data removed]",
      "text/plain": [
       "<Figure size 432x288 with 1 Axes>"
      ]
     },
     "metadata": {
      "needs_background": "light"
     },
     "output_type": "display_data"
    },
    {
     "data": {
      "text/html": [
       "<div>\n",
       "<style scoped>\n",
       "    .dataframe tbody tr th:only-of-type {\n",
       "        vertical-align: middle;\n",
       "    }\n",
       "\n",
       "    .dataframe tbody tr th {\n",
       "        vertical-align: top;\n",
       "    }\n",
       "\n",
       "    .dataframe thead th {\n",
       "        text-align: right;\n",
       "    }\n",
       "</style>\n",
       "<table border=\"1\" class=\"dataframe\">\n",
       "  <thead>\n",
       "    <tr style=\"text-align: right;\">\n",
       "      <th></th>\n",
       "      <th>Loss: train</th>\n",
       "      <th>Loss: val</th>\n",
       "      <th>Loss: test</th>\n",
       "      <th>Acc: train</th>\n",
       "      <th>Acc: val</th>\n",
       "      <th>Acc: test</th>\n",
       "      <th>Num epochs</th>\n",
       "      <th>Time (s)</th>\n",
       "    </tr>\n",
       "  </thead>\n",
       "  <tbody>\n",
       "    <tr>\n",
       "      <th>0</th>\n",
       "      <td>0.6098</td>\n",
       "      <td>0.6233</td>\n",
       "      <td>0.6259</td>\n",
       "      <td>0.6451</td>\n",
       "      <td>0.6647</td>\n",
       "      <td>0.6106</td>\n",
       "      <td>69</td>\n",
       "      <td>4.7717</td>\n",
       "    </tr>\n",
       "    <tr>\n",
       "      <th>1</th>\n",
       "      <td>0.5879</td>\n",
       "      <td>0.6273</td>\n",
       "      <td>0.5976</td>\n",
       "      <td>0.6692</td>\n",
       "      <td>0.6467</td>\n",
       "      <td>0.6683</td>\n",
       "      <td>124</td>\n",
       "      <td>7.0286</td>\n",
       "    </tr>\n",
       "    <tr>\n",
       "      <th>2</th>\n",
       "      <td>0.5788</td>\n",
       "      <td>0.6172</td>\n",
       "      <td>0.6098</td>\n",
       "      <td>0.6962</td>\n",
       "      <td>0.6707</td>\n",
       "      <td>0.6587</td>\n",
       "      <td>93</td>\n",
       "      <td>5.5980</td>\n",
       "    </tr>\n",
       "    <tr>\n",
       "      <th>3</th>\n",
       "      <td>0.5785</td>\n",
       "      <td>0.5707</td>\n",
       "      <td>0.6052</td>\n",
       "      <td>0.6692</td>\n",
       "      <td>0.6886</td>\n",
       "      <td>0.6346</td>\n",
       "      <td>165</td>\n",
       "      <td>10.3920</td>\n",
       "    </tr>\n",
       "    <tr>\n",
       "      <th>4</th>\n",
       "      <td>0.5883</td>\n",
       "      <td>0.6405</td>\n",
       "      <td>0.6299</td>\n",
       "      <td>0.6586</td>\n",
       "      <td>0.6527</td>\n",
       "      <td>0.6202</td>\n",
       "      <td>89</td>\n",
       "      <td>5.0084</td>\n",
       "    </tr>\n",
       "    <tr>\n",
       "      <th>5</th>\n",
       "      <td>0.5742</td>\n",
       "      <td>0.6183</td>\n",
       "      <td>0.6055</td>\n",
       "      <td>0.6947</td>\n",
       "      <td>0.6766</td>\n",
       "      <td>0.6731</td>\n",
       "      <td>180</td>\n",
       "      <td>9.5466</td>\n",
       "    </tr>\n",
       "    <tr>\n",
       "      <th>6</th>\n",
       "      <td>0.5508</td>\n",
       "      <td>0.6185</td>\n",
       "      <td>0.6153</td>\n",
       "      <td>0.7128</td>\n",
       "      <td>0.6287</td>\n",
       "      <td>0.6635</td>\n",
       "      <td>163</td>\n",
       "      <td>8.7110</td>\n",
       "    </tr>\n",
       "    <tr>\n",
       "      <th>7</th>\n",
       "      <td>0.5812</td>\n",
       "      <td>0.6190</td>\n",
       "      <td>0.6252</td>\n",
       "      <td>0.6977</td>\n",
       "      <td>0.6467</td>\n",
       "      <td>0.6250</td>\n",
       "      <td>123</td>\n",
       "      <td>6.9574</td>\n",
       "    </tr>\n",
       "    <tr>\n",
       "      <th>8</th>\n",
       "      <td>0.5727</td>\n",
       "      <td>0.6181</td>\n",
       "      <td>0.5894</td>\n",
       "      <td>0.6782</td>\n",
       "      <td>0.6347</td>\n",
       "      <td>0.6779</td>\n",
       "      <td>203</td>\n",
       "      <td>10.7721</td>\n",
       "    </tr>\n",
       "    <tr>\n",
       "      <th>9</th>\n",
       "      <td>0.5960</td>\n",
       "      <td>0.6397</td>\n",
       "      <td>0.6358</td>\n",
       "      <td>0.6647</td>\n",
       "      <td>0.5988</td>\n",
       "      <td>0.6058</td>\n",
       "      <td>47</td>\n",
       "      <td>2.8072</td>\n",
       "    </tr>\n",
       "  </tbody>\n",
       "</table>\n",
       "</div>"
      ],
      "text/plain": [
       "   Loss: train  Loss: val  Loss: test  Acc: train  Acc: val  Acc: test  \\\n",
       "0       0.6098     0.6233      0.6259      0.6451    0.6647     0.6106   \n",
       "1       0.5879     0.6273      0.5976      0.6692    0.6467     0.6683   \n",
       "2       0.5788     0.6172      0.6098      0.6962    0.6707     0.6587   \n",
       "3       0.5785     0.5707      0.6052      0.6692    0.6886     0.6346   \n",
       "4       0.5883     0.6405      0.6299      0.6586    0.6527     0.6202   \n",
       "5       0.5742     0.6183      0.6055      0.6947    0.6766     0.6731   \n",
       "6       0.5508     0.6185      0.6153      0.7128    0.6287     0.6635   \n",
       "7       0.5812     0.6190      0.6252      0.6977    0.6467     0.6250   \n",
       "8       0.5727     0.6181      0.5894      0.6782    0.6347     0.6779   \n",
       "9       0.5960     0.6397      0.6358      0.6647    0.5988     0.6058   \n",
       "\n",
       "  Num epochs  Time (s)  \n",
       "0         69    4.7717  \n",
       "1        124    7.0286  \n",
       "2         93    5.5980  \n",
       "3        165   10.3920  \n",
       "4         89    5.0084  \n",
       "5        180    9.5466  \n",
       "6        163    8.7110  \n",
       "7        123    6.9574  \n",
       "8        203   10.7721  \n",
       "9         47    2.8072  "
      ]
     },
     "metadata": {},
     "output_type": "display_data"
    },
    {
     "data": {
      "text/html": [
       "<div>\n",
       "<style scoped>\n",
       "    .dataframe tbody tr th:only-of-type {\n",
       "        vertical-align: middle;\n",
       "    }\n",
       "\n",
       "    .dataframe tbody tr th {\n",
       "        vertical-align: top;\n",
       "    }\n",
       "\n",
       "    .dataframe thead th {\n",
       "        text-align: right;\n",
       "    }\n",
       "</style>\n",
       "<table border=\"1\" class=\"dataframe\">\n",
       "  <thead>\n",
       "    <tr style=\"text-align: right;\">\n",
       "      <th></th>\n",
       "      <th>Mean</th>\n",
       "      <th>Std. dev</th>\n",
       "      <th>CI: lower</th>\n",
       "      <th>CI: upper</th>\n",
       "    </tr>\n",
       "  </thead>\n",
       "  <tbody>\n",
       "    <tr>\n",
       "      <th>Loss: train</th>\n",
       "      <td>0.5818</td>\n",
       "      <td>0.0156</td>\n",
       "      <td>0.5513</td>\n",
       "      <td>0.6123</td>\n",
       "    </tr>\n",
       "    <tr>\n",
       "      <th>Loss: val</th>\n",
       "      <td>0.6193</td>\n",
       "      <td>0.0192</td>\n",
       "      <td>0.5816</td>\n",
       "      <td>0.6569</td>\n",
       "    </tr>\n",
       "    <tr>\n",
       "      <th>Loss: test</th>\n",
       "      <td>0.6139</td>\n",
       "      <td>0.0150</td>\n",
       "      <td>0.5845</td>\n",
       "      <td>0.6434</td>\n",
       "    </tr>\n",
       "    <tr>\n",
       "      <th>Acc: train</th>\n",
       "      <td>0.6786</td>\n",
       "      <td>0.0211</td>\n",
       "      <td>0.6373</td>\n",
       "      <td>0.7200</td>\n",
       "    </tr>\n",
       "    <tr>\n",
       "      <th>Acc: val</th>\n",
       "      <td>0.6509</td>\n",
       "      <td>0.0262</td>\n",
       "      <td>0.5996</td>\n",
       "      <td>0.7022</td>\n",
       "    </tr>\n",
       "    <tr>\n",
       "      <th>Acc: test</th>\n",
       "      <td>0.6438</td>\n",
       "      <td>0.0274</td>\n",
       "      <td>0.5900</td>\n",
       "      <td>0.6975</td>\n",
       "    </tr>\n",
       "    <tr>\n",
       "      <th>Num epochs</th>\n",
       "      <td>125.6000</td>\n",
       "      <td>51.3100</td>\n",
       "      <td>25.0325</td>\n",
       "      <td>226.1675</td>\n",
       "    </tr>\n",
       "    <tr>\n",
       "      <th>Time (s)</th>\n",
       "      <td>7.1593</td>\n",
       "      <td>2.6536</td>\n",
       "      <td>1.9583</td>\n",
       "      <td>12.3603</td>\n",
       "    </tr>\n",
       "  </tbody>\n",
       "</table>\n",
       "</div>"
      ],
      "text/plain": [
       "                Mean  Std. dev  CI: lower  CI: upper\n",
       "Loss: train   0.5818    0.0156     0.5513     0.6123\n",
       "Loss: val     0.6193    0.0192     0.5816     0.6569\n",
       "Loss: test    0.6139    0.0150     0.5845     0.6434\n",
       "Acc: train    0.6786    0.0211     0.6373     0.7200\n",
       "Acc: val      0.6509    0.0262     0.5996     0.7022\n",
       "Acc: test     0.6438    0.0274     0.5900     0.6975\n",
       "Num epochs  125.6000   51.3100    25.0325   226.1675\n",
       "Time (s)      7.1593    2.6536     1.9583    12.3603"
      ]
     },
     "metadata": {},
     "output_type": "display_data"
    }
   ],
   "source": [
    "r, model, results, results_summary = evaluate_performance()\n",
    "\n",
    "plt.figure()\n",
    "plt.title(\"Loss per iteration\")\n",
    "plt.plot(r.history['loss'], label='loss')\n",
    "plt.plot(r.history['val_loss'], label='val_loss')\n",
    "plt.legend()\n",
    "plt.show()\n",
    "\n",
    "plt.figure()\n",
    "plt.title(\"Accuracy per iteration\")\n",
    "plt.plot(r.history['accuracy'], label='acc')\n",
    "plt.plot(r.history['val_accuracy'], label='val_acc')\n",
    "plt.legend()\n",
    "plt.show()\n",
    "\n",
    "display(results)\n",
    "display(results_summary)\n",
    "\n",
    "write_table(results_summary, \"test\")\n",
    "write_image(r, \"test\")"
   ]
  },
  {
   "cell_type": "markdown",
   "metadata": {},
   "source": [
    "# ADAM vs SGD"
   ]
  },
  {
   "cell_type": "markdown",
   "metadata": {},
   "source": [
    "### SGD"
   ]
  },
  {
   "cell_type": "code",
   "execution_count": 10,
   "metadata": {},
   "outputs": [],
   "source": [
    "r, model, results, results_summary = evaluate_performance(optim=\"sgd\")\n",
    "write_table(results_summary, \"SGD\")\n",
    "write_image(r, \"SGD\")"
   ]
  },
  {
   "cell_type": "markdown",
   "metadata": {},
   "source": [
    "### Adam"
   ]
  },
  {
   "cell_type": "code",
   "execution_count": 11,
   "metadata": {},
   "outputs": [],
   "source": [
    "r, model, results, results_summary = evaluate_performance(optim=\"adam\")\n",
    "write_table(results_summary, \"Adam\")\n",
    "write_image(r, \"Adam\")"
   ]
  },
  {
   "cell_type": "markdown",
   "metadata": {},
   "source": [
    "# Learning and momentum rate"
   ]
  },
  {
   "cell_type": "markdown",
   "metadata": {},
   "source": [
    "### Learning rate"
   ]
  },
  {
   "cell_type": "code",
   "execution_count": 12,
   "metadata": {},
   "outputs": [],
   "source": [
    "r, model, results, results_summary = evaluate_performance(lr=0.01)\n",
    "write_table(results_summary, \"Learning rate = 0.01\")\n",
    "write_image(r, \"Learning rate = 0.01\")"
   ]
  },
  {
   "cell_type": "code",
   "execution_count": 13,
   "metadata": {},
   "outputs": [],
   "source": [
    "r, model, results, results_summary = evaluate_performance(lr=0.10)\n",
    "write_table(results_summary, \"Learning rate = 0.10\")\n",
    "write_image(r, \"Learning rate = 0.10\")"
   ]
  },
  {
   "cell_type": "code",
   "execution_count": 14,
   "metadata": {},
   "outputs": [],
   "source": [
    "r, model, results, results_summary = evaluate_performance(lr=0.50)\n",
    "write_table(results_summary, \"Learning rate = 0.50\")\n",
    "write_image(r, \"Learning rate = 0.50\")"
   ]
  },
  {
   "cell_type": "code",
   "execution_count": 15,
   "metadata": {},
   "outputs": [],
   "source": [
    "r, model, results, results_summary = evaluate_performance(lr=1.00)\n",
    "write_table(results_summary, \"Learning rate = 1.00\")\n",
    "write_image(r, \"Learning rate = 1.00\")"
   ]
  },
  {
   "cell_type": "code",
   "execution_count": 16,
   "metadata": {},
   "outputs": [],
   "source": [
    "r, model, results, results_summary = evaluate_performance(lr=5.00)\n",
    "write_table(results_summary, \"Learning rate = 5.00\")\n",
    "write_image(r, \"Learning rate = 1.00\")"
   ]
  },
  {
   "cell_type": "markdown",
   "metadata": {},
   "source": [
    "### Momentum"
   ]
  },
  {
   "cell_type": "code",
   "execution_count": 17,
   "metadata": {},
   "outputs": [],
   "source": [
    "r, model, results, results_summary = evaluate_performance(mom=0.01)\n",
    "write_table(results_summary, \"Momentum = 0.01\")\n",
    "write_image(r, \"Momentum = 0.01\")"
   ]
  },
  {
   "cell_type": "code",
   "execution_count": 18,
   "metadata": {},
   "outputs": [],
   "source": [
    "r, model, results, results_summary = evaluate_performance(mom=0.10)\n",
    "write_table(results_summary, \"Momentum = 0.10\")\n",
    "write_image(r, \"Momentum = 0.10\")"
   ]
  },
  {
   "cell_type": "code",
   "execution_count": 19,
   "metadata": {},
   "outputs": [],
   "source": [
    "r, model, results, results_summary = evaluate_performance(mom=0.50)\n",
    "write_table(results_summary, \"Momentum = 0.50\")\n",
    "write_image(r, \"Momentum = 0.50\")"
   ]
  },
  {
   "cell_type": "code",
   "execution_count": 20,
   "metadata": {},
   "outputs": [],
   "source": [
    "r, model, results, results_summary = evaluate_performance(mom=1.00)\n",
    "write_table(results_summary, \"Momentum = 1.00\")\n",
    "write_image(r, \"Momentum = 1.00\")"
   ]
  },
  {
   "cell_type": "markdown",
   "metadata": {},
   "source": [
    "# Number of hidden layers"
   ]
  },
  {
   "cell_type": "code",
   "execution_count": 21,
   "metadata": {},
   "outputs": [],
   "source": [
    "r, model, results, results_summary = evaluate_performance(n_hidden_layers=1)\n",
    "write_table(results_summary, \"Hidden layers = 1\")\n",
    "write_image(r, \"Hidden layers = 1\")"
   ]
  },
  {
   "cell_type": "code",
   "execution_count": 22,
   "metadata": {},
   "outputs": [],
   "source": [
    "r, model, results, results_summary = evaluate_performance(n_hidden_layers=2)\n",
    "write_table(results_summary, \"Hidden layers = 2\")\n",
    "write_image(r, \"Hidden layers = 2\")"
   ]
  },
  {
   "cell_type": "code",
   "execution_count": 23,
   "metadata": {},
   "outputs": [],
   "source": [
    "r, model, results, results_summary = evaluate_performance(n_hidden_layers=3)\n",
    "write_table(results_summary, \"Hidden layers = 3\")\n",
    "write_image(r, \"Hidden layers = 3\")"
   ]
  },
  {
   "cell_type": "code",
   "execution_count": 24,
   "metadata": {},
   "outputs": [],
   "source": [
    "r, model, results, results_summary = evaluate_performance(n_hidden_layers=4)\n",
    "write_table(results_summary, \"Hidden layers = 4\")\n",
    "write_image(r, \"Hidden layers = 4\")"
   ]
  },
  {
   "cell_type": "markdown",
   "metadata": {},
   "source": [
    "# Number of hidden neurons"
   ]
  },
  {
   "cell_type": "code",
   "execution_count": 25,
   "metadata": {},
   "outputs": [],
   "source": [
    "r, model, results, results_summary = evaluate_performance(n_hidden_neurons=5)\n",
    "write_table(results_summary, \"Hidden neurons = 5\")\n",
    "write_image(r, \"Hidden neurons = 5\")"
   ]
  },
  {
   "cell_type": "code",
   "execution_count": 26,
   "metadata": {},
   "outputs": [],
   "source": [
    "r, model, results, results_summary = evaluate_performance(n_hidden_neurons=10)\n",
    "write_table(results_summary, \"Hidden neurons = 10\")\n",
    "write_image(r, \"Hidden neurons = 10\")"
   ]
  },
  {
   "cell_type": "code",
   "execution_count": 27,
   "metadata": {},
   "outputs": [],
   "source": [
    "r, model, results, results_summary = evaluate_performance(n_hidden_neurons=15)\n",
    "write_table(results_summary, \"Hidden neurons = 15\")\n",
    "write_image(r, \"Hidden neurons = 15\")"
   ]
  },
  {
   "cell_type": "code",
   "execution_count": 28,
   "metadata": {},
   "outputs": [],
   "source": [
    "r, model, results, results_summary = evaluate_performance(n_hidden_neurons=20)\n",
    "write_table(results_summary, \"Hidden neurons = 20\")\n",
    "write_image(r, \"Hidden neurons = 20\")"
   ]
  },
  {
   "cell_type": "code",
   "execution_count": 29,
   "metadata": {},
   "outputs": [],
   "source": [
    "r, model, results, results_summary = evaluate_performance(n_hidden_neurons=25)\n",
    "write_table(results_summary, \"Hidden neurons = 25\")\n",
    "write_image(r, \"Hidden neurons = 25\")"
   ]
  },
  {
   "cell_type": "markdown",
   "metadata": {},
   "source": [
    "# Best model"
   ]
  },
  {
   "cell_type": "markdown",
   "metadata": {},
   "source": [
    "### Fit best model"
   ]
  },
  {
   "cell_type": "code",
   "execution_count": 56,
   "metadata": {},
   "outputs": [],
   "source": [
    "# r, model, results, _ = evaluate_performance(optim=\"adam\", n_hidden_layers=1, \n",
    "#                                                           n_hidden_neurons=20, n_reps=1)\n",
    "# model.save(\"Models/best_model\")\n",
    "model = tf.keras.models.load_model(\"Models/best_model\")\n",
    "y_pred_train = model.predict(X_train)\n",
    "y_pred_val = model.predict(X_val)\n",
    "y_pred_test = model.predict(X_test)"
   ]
  },
  {
   "cell_type": "code",
   "execution_count": 57,
   "metadata": {},
   "outputs": [
    {
     "data": {
      "text/html": [
       "<div>\n",
       "<style scoped>\n",
       "    .dataframe tbody tr th:only-of-type {\n",
       "        vertical-align: middle;\n",
       "    }\n",
       "\n",
       "    .dataframe tbody tr th {\n",
       "        vertical-align: top;\n",
       "    }\n",
       "\n",
       "    .dataframe thead th {\n",
       "        text-align: right;\n",
       "    }\n",
       "</style>\n",
       "<table border=\"1\" class=\"dataframe\">\n",
       "  <thead>\n",
       "    <tr style=\"text-align: right;\">\n",
       "      <th></th>\n",
       "      <th>Loss: train</th>\n",
       "      <th>Loss: val</th>\n",
       "      <th>Loss: test</th>\n",
       "      <th>Acc: train</th>\n",
       "      <th>Acc: val</th>\n",
       "      <th>Acc: test</th>\n",
       "      <th>Num epochs</th>\n",
       "      <th>Time (s)</th>\n",
       "    </tr>\n",
       "  </thead>\n",
       "  <tbody>\n",
       "    <tr>\n",
       "      <th>0</th>\n",
       "      <td>0.5595</td>\n",
       "      <td>0.6113</td>\n",
       "      <td>0.5892</td>\n",
       "      <td>0.7113</td>\n",
       "      <td>0.6287</td>\n",
       "      <td>0.7115</td>\n",
       "      <td>36</td>\n",
       "      <td>2.8835</td>\n",
       "    </tr>\n",
       "  </tbody>\n",
       "</table>\n",
       "</div>"
      ],
      "text/plain": [
       "   Loss: train  Loss: val  Loss: test  Acc: train  Acc: val  Acc: test  \\\n",
       "0       0.5595     0.6113      0.5892      0.7113    0.6287     0.7115   \n",
       "\n",
       "  Num epochs  Time (s)  \n",
       "0         36    2.8835  "
      ]
     },
     "metadata": {},
     "output_type": "display_data"
    }
   ],
   "source": [
    "display(results)"
   ]
  },
  {
   "cell_type": "code",
   "execution_count": 42,
   "metadata": {},
   "outputs": [
    {
     "data": {
      "text/plain": [
       "<matplotlib.legend.Legend at 0x7f9798874b90>"
      ]
     },
     "execution_count": 42,
     "metadata": {},
     "output_type": "execute_result"
    },
    {
     "data": {
      "image/png": "[encoded data removed]",
      "text/plain": [
       "<Figure size 576x288 with 2 Axes>"
      ]
     },
     "metadata": {
      "needs_background": "light"
     },
     "output_type": "display_data"
    }
   ],
   "source": [
    "fig = plt.figure(figsize=(8, 4))\n",
    "plt.subplot(1, 2, 1)\n",
    "plt.title(f\"Loss per iteration - best model\")\n",
    "plt.plot(r.history['loss'], label='Loss')\n",
    "plt.plot(r.history['val_loss'], label='Validation Loss')\n",
    "plt.legend()\n",
    "\n",
    "plt.subplot(1, 2, 2)\n",
    "plt.title(f\"Accuracy per iteration - best model\")\n",
    "plt.plot(r.history['accuracy'], label='Accuracy')\n",
    "plt.plot(r.history['val_accuracy'], label='Validation Accuracy')\n",
    "plt.legend()"
   ]
  },
  {
   "cell_type": "markdown",
   "metadata": {},
   "source": [
    "### ROC and AUC"
   ]
  },
  {
   "cell_type": "code",
   "execution_count": 33,
   "metadata": {},
   "outputs": [],
   "source": [
    "roc_train = roc_curve(y_train, y_pred_train)\n",
    "roc_val = roc_curve(y_val, y_pred_val)\n",
    "roc_test = roc_curve(y_test, y_pred_test)"
   ]
  },
  {
   "cell_type": "code",
   "execution_count": 34,
   "metadata": {},
   "outputs": [
    {
     "data": {
      "image/png": "[encoded data removed]",
      "text/plain": [
       "<Figure size 864x576 with 1 Axes>"
      ]
     },
     "metadata": {
      "needs_background": "light"
     },
     "output_type": "display_data"
    }
   ],
   "source": [
    "plt.figure(figsize=(12, 8))\n",
    "plt.title(\"ROC curve\")\n",
    "plt.xlabel(\"False positive rate\")\n",
    "plt.ylabel(\"True positive rate\")\n",
    "plt.plot(roc_train[0], roc_train[1], label=\"train\")\n",
    "plt.plot(roc_val[0], roc_val[1], label=\"validation\")\n",
    "plt.plot(roc_test[0], roc_test[1], label=\"test\")\n",
    "plt.legend()\n",
    "plt.show()"
   ]
  },
  {
   "cell_type": "code",
   "execution_count": 35,
   "metadata": {},
   "outputs": [
    {
     "data": {
      "text/html": [
       "<div>\n",
       "<style scoped>\n",
       "    .dataframe tbody tr th:only-of-type {\n",
       "        vertical-align: middle;\n",
       "    }\n",
       "\n",
       "    .dataframe tbody tr th {\n",
       "        vertical-align: top;\n",
       "    }\n",
       "\n",
       "    .dataframe thead th {\n",
       "        text-align: right;\n",
       "    }\n",
       "</style>\n",
       "<table border=\"1\" class=\"dataframe\">\n",
       "  <thead>\n",
       "    <tr style=\"text-align: right;\">\n",
       "      <th></th>\n",
       "      <th>train</th>\n",
       "      <th>validation</th>\n",
       "      <th>test</th>\n",
       "    </tr>\n",
       "  </thead>\n",
       "  <tbody>\n",
       "    <tr>\n",
       "      <th>0</th>\n",
       "      <td>0.7947</td>\n",
       "      <td>0.7220</td>\n",
       "      <td>0.7468</td>\n",
       "    </tr>\n",
       "  </tbody>\n",
       "</table>\n",
       "</div>"
      ],
      "text/plain": [
       "   train  validation   test\n",
       "0 0.7947      0.7220 0.7468"
      ]
     },
     "metadata": {},
     "output_type": "display_data"
    }
   ],
   "source": [
    "df_auc = pd.DataFrame({\n",
    "    \"train\": roc_auc_score(y_train, y_pred_train),\n",
    "    \"validation\": roc_auc_score(y_val, y_pred_val),\n",
    "    \"test\": roc_auc_score(y_test, y_pred_test),\n",
    "}, index=[0])\n",
    "\n",
    "display(df_auc)"
   ]
  },
  {
   "cell_type": "markdown",
   "metadata": {},
   "source": [
    "### Confusion matrix"
   ]
  },
  {
   "cell_type": "code",
   "execution_count": 36,
   "metadata": {},
   "outputs": [
    {
     "data": {
      "image/png": "[encoded data removed]",
      "text/plain": [
       "<Figure size 288x864 with 3 Axes>"
      ]
     },
     "metadata": {
      "needs_background": "light"
     },
     "output_type": "display_data"
    }
   ],
   "source": [
    "fig = plt.figure(figsize=(4, 12))\n",
    "plt.subplot(3, 1, 1)\n",
    "\n",
    "plt.title('Confusion Matrix - train')\n",
    "plt.xlabel('Predicted labels')\n",
    "plt.ylabel('True labels')\n",
    "\n",
    "\n",
    "heatmap(\n",
    "    confusion_matrix(y_train, np.where(y_pred_train > 0.5, 1, 0)),\n",
    "    annot=True, cmap='Blues', fmt=\"g\", cbar=False)\n",
    "\n",
    "plt.subplot(3, 1, 2)\n",
    "\n",
    "plt.xlabel('Predicted labels')\n",
    "plt.ylabel('True labels')\n",
    "plt.title('Confusion Matrix - validation')\n",
    "\n",
    "heatmap(\n",
    "    confusion_matrix(y_val, np.where(y_pred_val > 0.5, 1, 0)),\n",
    "    annot=True, cmap='Blues', fmt=\"g\", cbar=False)\n",
    "\n",
    "\n",
    "plt.subplot(3, 1, 3)\n",
    "plt.title('Confusion Matrix - test')\n",
    "plt.xlabel('Predicted labels')\n",
    "plt.ylabel('True labels')\n",
    "\n",
    "\n",
    "heatmap(\n",
    "    confusion_matrix(y_test, np.where(y_pred_test > 0.5, 1, 0)),\n",
    "    annot=True, cmap='Blues', fmt=\"g\", cbar=False)\n",
    "\n",
    "plt.tight_layout()"
   ]
  },
  {
   "cell_type": "markdown",
   "metadata": {},
   "source": [
    "### Precision recall and f1 score"
   ]
  },
  {
   "cell_type": "code",
   "execution_count": 37,
   "metadata": {},
   "outputs": [],
   "source": [
    "pr_train = precision_recall_curve(y_train, y_pred_train)\n",
    "pr_val = precision_recall_curve(y_val, y_pred_val)\n",
    "pr_test = precision_recall_curve(y_test, y_pred_test)"
   ]
  },
  {
   "cell_type": "code",
   "execution_count": 38,
   "metadata": {},
   "outputs": [
    {
     "data": {
      "image/png": "[encoded data removed]",
      "text/plain": [
       "<Figure size 864x576 with 1 Axes>"
      ]
     },
     "metadata": {
      "needs_background": "light"
     },
     "output_type": "display_data"
    }
   ],
   "source": [
    "plt.figure(figsize=(12, 8))\n",
    "plt.title(\"Precision vs recall curve\")\n",
    "plt.xlabel(\"Recall\")\n",
    "plt.ylabel(\"Precision\")\n",
    "plt.plot(pr_train[0], pr_train[1], label=\"train\")\n",
    "plt.plot(pr_val[0], pr_val[1], label=\"validation\")\n",
    "plt.plot(pr_test[0], pr_test[1], label=\"test\")\n",
    "plt.legend()\n",
    "plt.show()"
   ]
  },
  {
   "cell_type": "code",
   "execution_count": 39,
   "metadata": {},
   "outputs": [
    {
     "data": {
      "text/html": [
       "<div>\n",
       "<style scoped>\n",
       "    .dataframe tbody tr th:only-of-type {\n",
       "        vertical-align: middle;\n",
       "    }\n",
       "\n",
       "    .dataframe tbody tr th {\n",
       "        vertical-align: top;\n",
       "    }\n",
       "\n",
       "    .dataframe thead th {\n",
       "        text-align: right;\n",
       "    }\n",
       "</style>\n",
       "<table border=\"1\" class=\"dataframe\">\n",
       "  <thead>\n",
       "    <tr style=\"text-align: right;\">\n",
       "      <th></th>\n",
       "      <th>train</th>\n",
       "      <th>validation</th>\n",
       "      <th>test</th>\n",
       "    </tr>\n",
       "  </thead>\n",
       "  <tbody>\n",
       "    <tr>\n",
       "      <th>0</th>\n",
       "      <td>0.7211</td>\n",
       "      <td>0.6552</td>\n",
       "      <td>0.6429</td>\n",
       "    </tr>\n",
       "  </tbody>\n",
       "</table>\n",
       "</div>"
      ],
      "text/plain": [
       "   train  validation   test\n",
       "0 0.7211      0.6552 0.6429"
      ]
     },
     "metadata": {},
     "output_type": "display_data"
    }
   ],
   "source": [
    "df_f1 = pd.DataFrame({\n",
    "    \"train\": f1_score(y_train, np.where(y_pred_train > 0.5, 1, 0)),\n",
    "    \"validation\": f1_score(y_val, np.where(y_pred_val > 0.5, 1, 0)),\n",
    "    \"test\": f1_score(y_test, np.where(y_pred_test > 0.5, 1, 0)),\n",
    "}, index=[0])\n",
    "\n",
    "display(df_f1)"
   ]
  }
 ],
 "metadata": {
  "kernelspec": {
   "display_name": "Python 3",
   "language": "python",
   "name": "python3"
  },
  "language_info": {
   "codemirror_mode": {
    "name": "ipython",
    "version": 3
   },
   "file_extension": ".py",
   "mimetype": "text/x-python",
   "name": "python",
   "nbconvert_exporter": "python",
   "pygments_lexer": "ipython3",
   "version": "3.7.4"
  }
 },
 "nbformat": 4,
 "nbformat_minor": 2
}
